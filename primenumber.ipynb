{
 "cells": [
  {
   "cell_type": "code",
   "execution_count": 7,
   "source": [
    "z = input(\"Check the prime number\")\r\n",
    "prime = []\r\n",
    "if z.isdigit():\r\n",
    "    y = int(z)\r\n",
    "    for i in range(2, (y+1)):\r\n",
    "        count = 0\r\n",
    "        for j in range(1, i + 1) :\r\n",
    "            if i % j == 0:\r\n",
    "                count += 1\r\n",
    "        if count <= 2 :\r\n",
    "            prime.append(i)\r\n",
    "\r\n",
    "    print(prime)\r\n",
    "else: \r\n",
    "    print(\"Please enter a digit\")"
   ],
   "outputs": [
    {
     "output_type": "stream",
     "name": "stdout",
     "text": [
      "[2, 3, 5, 7, 11, 13, 17, 19, 23, 29, 31]\n"
     ]
    }
   ],
   "metadata": {}
  }
 ],
 "metadata": {
  "orig_nbformat": 4,
  "language_info": {
   "name": "python",
   "version": "3.9.6",
   "mimetype": "text/x-python",
   "codemirror_mode": {
    "name": "ipython",
    "version": 3
   },
   "pygments_lexer": "ipython3",
   "nbconvert_exporter": "python",
   "file_extension": ".py"
  },
  "kernelspec": {
   "name": "python3",
   "display_name": "Python 3.9.6 64-bit"
  },
  "interpreter": {
   "hash": "1f5a4fa7b40ef2e17656420b24044b840261820699086190e3701f297d6ffec2"
  }
 },
 "nbformat": 4,
 "nbformat_minor": 2
}