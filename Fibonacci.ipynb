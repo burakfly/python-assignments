{
 "cells": [
  {
   "cell_type": "code",
   "execution_count": null,
   "source": [
    "fib=[]\r\n",
    "x = 0\r\n",
    "y = 1\r\n",
    "while y < 56:\r\n",
    "    x , y = y, (x + y)\r\n",
    "    fib.append(x)\r\n",
    "print(fib)"
   ],
   "outputs": [],
   "metadata": {}
  }
 ],
 "metadata": {
  "orig_nbformat": 4,
  "language_info": {
   "name": "python"
  }
 },
 "nbformat": 4,
 "nbformat_minor": 2
}